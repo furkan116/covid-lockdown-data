{
 "cells": [
  {
   "cell_type": "code",
   "execution_count": null,
   "outputs": [],
   "source": [
    "import numpy as np\n",
    "from sklearn.datasets import make_classification\n",
    "from sklearn.model_selection import train_test_split\n",
    "from sklearn import svm\n",
    "X, y = make_classification(n_samples=10, random_state=0)\n",
    "print(type(X), \"\\n\", X)\n",
    "print(type(y), \"\\n\", y)\n",
    "X_train , X_test , y_train, y_test = train_test_split(X, y, random_state=0)\n",
    "clf = svm.SVC(kernel='precomputed')\n",
    "# linear kernel computation\n",
    "gram_train = np.dot(X_train, X_train.T)\n",
    "clf.fit(gram_train, y_train)\n",
    "\n",
    "# predict on training examples\n",
    "gram_test = np.dot(X_test, X_train.T)\n",
    "clf.predict(gram_test)"
   ],
   "metadata": {
    "collapsed": false,
    "pycharm": {
     "name": "#%%\n"
    }
   }
  }
 ],
 "metadata": {
  "colab": {
   "collapsed_sections": [],
   "name": "data_mining_hw1.ipynb",
   "provenance": []
  },
  "kernelspec": {
   "display_name": "Python 3 (ipykernel)",
   "language": "python",
   "name": "python3"
  },
  "language_info": {
   "codemirror_mode": {
    "name": "ipython",
    "version": 3
   },
   "file_extension": ".py",
   "mimetype": "text/x-python",
   "name": "python",
   "nbconvert_exporter": "python",
   "pygments_lexer": "ipython3",
   "version": "3.8.5"
  }
 },
 "nbformat": 4,
 "nbformat_minor": 1
}