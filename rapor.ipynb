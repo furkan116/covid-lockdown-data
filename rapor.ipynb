{
 "cells": [
  {
   "cell_type": "markdown",
   "metadata": {
    "pycharm": {
     "is_executing": true,
     "name": "#%%\n"
    }
   },
   "source": [
    "# BİL 366 Veri Madenciliği Final Ödevi\n",
    "\n",
    "\n",
    "\n",
    "+ #### Samet Burgazoğlu 19120205017\n",
    "+ #### Hüseyin Arda Davulcu 19120205039\n",
    "+ #### Muhammed Furkan Yıldırım 19120205024\n",
    "+ #### Muhammed Bekir Öztürk 19120205061\n",
    "\n",
    "&nbsp;\n",
    "\n",
    "Projemize “Avrupa Birliği'nde kapanma dönemlerindeki hareketlilik değişimlerinin vaka ve ölüm sayılarına etkisi ve hareketlilik - vaka ilişkisinin incelenmesi.” mantalitesi ile başladık. Bu bağlamda önce Avrupa Birliği’ndeki 27 ülkeyi incelediğimizde Kıbrıs (Sanıyoruz ki sadece Güney Kıbrıs Rum Yönetimi kastediliyor ama Avrupa Birliği için sadece Kıbrıs) için veri olmadığını fark ettik. Bu yüzden başta Kıbrıs haricindeki 26 ülkeyi baz almaya karar verdik. Akabinde tam kapanma yapmadıklarından dolayı Letonya, Lüksemburg, Malta, Slovenya ve İsveç’i de listemizden çıkardık.\n",
    "\n",
    "Geriye kalan ülkeler:\n",
    "\n",
    "1. Avusturya\n",
    "1. Belçika\n",
    "1. Bulgaristan\n",
    "1. Hırvatistan\n",
    "1. Çekya\n",
    "1. Danimarka\n",
    "1. Estonya\n",
    "1. Finlandiya\n",
    "1. Fransa\n",
    "1. Almanya\n",
    "1. Yunanistan\n",
    "1. Macaristan\n",
    "1. İrlanda\n",
    "1. İtalya\n",
    "1. Litvanya\n",
    "1. Hollanda\n",
    "1. Polonya\n",
    "1. Portekiz\n",
    "1. Romanya\n",
    "1. Slovakya\n",
    "1. İspanya\n",
    "\n",
    "&nbsp;\n",
    "\n",
    "Bu ülkelerin hareketlilik verilerini Google üzerinden [1](https://www.gstatic.com/covid19/mobility/Region_Mobility_Report_CSVs.zip) vaka ve ölüm sayılarını ise WHO üzerinden [2](https://covid19.who.int/WHO-COVID-19-global-data.csv) 15.12.2021 tarihinde edindik. Google, hareketlilik verisini günlük olarak güncellenmediği için elimizdeki en son veriler 12.12.2021 tarihine ait. Verilerin büyüklüğü yüzünden veriyi internet üzerinden değil, bilgisayara kaydedilen dosyalar üzerinden almaya karar verdik.\n",
    "\n",
    "\n",
    "Ülkeleri kıyasladığımız için Google verisinde ülkelerin bölgelerine (eyalet, il, ilçe vb.) ait olan verileri göz ardı ettik. Benzer şekilde sub_region_1, sub_region_2, metro_area, iso_3166_2_code, census_fips_code, place_id sütunlarını kaldırdık. WHO verisinden yeni vaka ve yeni ölüm değerlerini alıp ilgili ülkenin uygun tarihli satırına ekledik. 2020 ve 2021 verilerini Google amca ayrı verse de biz hem onu, hem de tüm ülkeleri tek DataFrame’de topladık.\n",
    "\n",
    "Kapanmalardan önceki 2 ve sonraki 1 haftanın hareketlilik verisinin ortalamasını aldık. Her bir attribute/feature için kapanma öncesi ve sonrası farkını aldık. Sonrasında ilgili attribute’ün mutlak maksimum ve minimum değerlerini bulup elimizdeki her bir kapanma için normalize ettik. Attribute’leri kendi verdiğimiz ağırlıklarla birleştirip bir X değeri elde ettik.\n",
    "\n",
    "0-1 arasında normalize değer elde etmek için aşağıdaki formülü kullandık.\n",
    "\n",
    "$$\\frac{avg\\_diff - min}{max - min}$$\n",
    "\n",
    "Değerinin düşük olmasının tam kapanmada daha başarılı sonuç oluşturacak olan attribute'ler için ise normalize etmek için aşağıdaki formülü kullandık.\n",
    "\n",
    "$$\\frac{max - avg\\_diff}{max - min}$$\n",
    "\n",
    "Kapanmalardan önceki 2 ve sonraki 1 haftanın vaka değerlerinin ortalamasını alıp kapanma sonrasındaki değeri kapanma öncesindeki değere bölmek suretiyle Y değeri elde ettik.\n",
    "Elimizde her bir kapanma için X ve Y değeri oluştu. Bu X ve Y değerlerini classification için kullandık. Bu sayede kapanmalar sayesinde vaka sayılarını düşürüp başarılı olan ülkeler ile kapanma yapmasına rağmen vaka sayılarını düşürmede başarısız olan ülkeleri ayırt etmiş olduk.\n"
   ]
  },
  {
   "cell_type": "code",
   "execution_count": null,
   "metadata": {},
   "outputs": [],
   "source": []
  },
  {
   "cell_type": "code",
   "execution_count": null,
   "metadata": {},
   "outputs": [],
   "source": []
  }
 ],
 "metadata": {
  "colab": {
   "collapsed_sections": [],
   "name": "data_mining_hw1.ipynb",
   "provenance": []
  },
  "kernelspec": {
   "display_name": "Python 3 (ipykernel)",
   "language": "python",
   "name": "python3"
  },
  "language_info": {
   "codemirror_mode": {
    "name": "ipython",
    "version": 3
   },
   "file_extension": ".py",
   "mimetype": "text/x-python",
   "name": "python",
   "nbconvert_exporter": "python",
   "pygments_lexer": "ipython3",
   "version": "3.8.5"
  }
 },
 "nbformat": 4,
 "nbformat_minor": 1
}