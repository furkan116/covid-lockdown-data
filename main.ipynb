{
 "cells": [
  {
   "cell_type": "code",
   "execution_count": 15,
   "metadata": {
    "collapsed": true
   },
   "outputs": [],
   "source": [
    "import pandas as pd\n",
    "import os"
   ]
  },
  {
   "cell_type": "code",
   "execution_count": 16,
   "outputs": [],
   "source": [
    "all_data = {}\n",
    "dtype = {\n",
    "    \"country_region_code\":str,\n",
    "    \"country_region\":str,\n",
    "    \"sub_region_1\":str,\n",
    "    \"sub_region_2\":str,\n",
    "    \"metro_area\":str,\n",
    "    \"iso_3166_2_code\":str,\n",
    "    \"census_fips_code\":str,\n",
    "    \"place_id\":str,\n",
    "    \"date\":object,\n",
    "    \"retail_and_recreation_percent_change_from_baseline\":float,\n",
    "    \"grocery_and_pharmacy_percent_change_from_baseline\":float,\n",
    "    \"parks_percent_change_from_baseline\":float,\n",
    "    \"transit_stations_percent_change_from_baseline\":float,\n",
    "    \"workplaces_percent_change_from_baseline\":float,\n",
    "    \"residential_percent_change_from_baseline\":float\n",
    "}\n",
    "for csv_file in os.listdir(\"assets\"):\n",
    "    all_data[csv_file.split(\".\")[0]] = pd.read_csv(\n",
    "        \"assets/{filename}\".format(filename=csv_file),\n",
    "        dtype=dtype\n",
    "    )"
   ],
   "metadata": {
    "collapsed": false,
    "pycharm": {
     "name": "#%%\n"
    }
   }
  },
  {
   "cell_type": "code",
   "execution_count": 17,
   "outputs": [],
   "source": [
    "clean_all_data = []\n",
    "for data in all_data:\n",
    "    df = all_data[data]\n",
    "    clean_all_data.append(df[df['sub_region_1'].isnull()])"
   ],
   "metadata": {
    "collapsed": false,
    "pycharm": {
     "name": "#%%\n"
    }
   }
  },
  {
   "cell_type": "code",
   "execution_count": 18,
   "outputs": [],
   "source": [
    "combined_data = pd.concat(clean_all_data)\n",
    "combined_data.to_csv(\"data.csv\")"
   ],
   "metadata": {
    "collapsed": false,
    "pycharm": {
     "name": "#%%\n"
    }
   }
  }
 ],
 "metadata": {
  "kernelspec": {
   "display_name": "Python 3",
   "language": "python",
   "name": "python3"
  },
  "language_info": {
   "codemirror_mode": {
    "name": "ipython",
    "version": 2
   },
   "file_extension": ".py",
   "mimetype": "text/x-python",
   "name": "python",
   "nbconvert_exporter": "python",
   "pygments_lexer": "ipython2",
   "version": "2.7.6"
  }
 },
 "nbformat": 4,
 "nbformat_minor": 0
}