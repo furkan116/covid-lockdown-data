{
 "cells": [
  {
   "cell_type": "code",
   "execution_count": 187,
   "metadata": {
    "collapsed": true
   },
   "outputs": [],
   "source": [
    "import pandas as pd\n",
    "import os"
   ]
  },
  {
   "cell_type": "code",
   "execution_count": 188,
   "outputs": [],
   "source": [
    "all_data = {}\n",
    "dtype = {\n",
    "    \"country_region_code\":str,\n",
    "    \"country_region\":str,\n",
    "    \"sub_region_1\":str,\n",
    "    \"sub_region_2\":str,\n",
    "    \"metro_area\":str,\n",
    "    \"iso_3166_2_code\":str,\n",
    "    \"census_fips_code\":str,\n",
    "    \"place_id\":str,\n",
    "    \"date\":object,\n",
    "    \"retail_and_recreation_percent_change_from_baseline\":float,\n",
    "    \"grocery_and_pharmacy_percent_change_from_baseline\":float,\n",
    "    \"parks_percent_change_from_baseline\":float,\n",
    "    \"transit_stations_percent_change_from_baseline\":float,\n",
    "    \"workplaces_percent_change_from_baseline\":float,\n",
    "    \"residential_percent_change_from_baseline\":float\n",
    "}\n",
    "deleted_countries = [\n",
    "    \"LT\",#Letonya\n",
    "    \"LU\",#Lüksemburg\n",
    "    \"MT\",#Malta\n",
    "    \"SI\",#Slovenya\n",
    "    \"SE\",#İsveç\n",
    "]\n",
    "\n",
    "dropped_columns = [\n",
    "    'sub_region_1',\n",
    "    'sub_region_2',\n",
    "    'metro_area',\n",
    "    'iso_3166_2_code',\n",
    "    'census_fips_code',\n",
    "    'place_id',\n",
    "]\n",
    "\n",
    "new_column_names = {\n",
    "    'retail_and_recreation_percent_change_from_baseline': 'retail_and_recreation',\n",
    "    'grocery_and_pharmacy_percent_change_from_baseline': 'grocery_and_pharmacy',\n",
    "    'parks_percent_change_from_baseline': 'parks',\n",
    "    'transit_stations_percent_change_from_baseline': 'transit_stations',\n",
    "    'workplaces_percent_change_from_baseline': 'workplaces',\n",
    "    'residential_percent_change_from_baseline': 'residential',\n",
    "}\n",
    "\n",
    "files = os.listdir(\"assets\")\n",
    "countries = [x for x in files if x[5:7] not in deleted_countries]  # deleted unnecessary countries\n",
    "countries.sort()  # sort alphabetically\n",
    "\n",
    "columns_will_get_from_who_data = ['New_cases', 'New_deaths']\n",
    "who_data = pd.read_csv(\"WHO-COVID-19-global-data.csv\")\n",
    "who_data['date'] = pd.to_datetime(who_data['Date_reported'])"
   ],
   "metadata": {
    "collapsed": false,
    "pycharm": {
     "name": "#%%\n"
    }
   }
  },
  {
   "cell_type": "code",
   "execution_count": 189,
   "outputs": [],
   "source": [
    "for csv_file in countries:\n",
    "    file_name = csv_file.split(\".\")[0]\n",
    "    data_frame = pd.read_csv(\n",
    "        \"assets/{filename}\".format(filename=csv_file),\n",
    "        dtype=dtype\n",
    "    )\n",
    "    all_data[file_name] = data_frame"
   ],
   "metadata": {
    "collapsed": false,
    "pycharm": {
     "name": "#%%\n"
    }
   }
  },
  {
   "cell_type": "code",
   "execution_count": 189,
   "outputs": [],
   "source": [],
   "metadata": {
    "collapsed": false,
    "pycharm": {
     "name": "#%%\n"
    }
   }
  },
  {
   "cell_type": "code",
   "execution_count": 190,
   "outputs": [],
   "source": [
    "clean_all_data = []\n",
    "for data in all_data:\n",
    "    df = all_data[data]\n",
    "    cleaned_data = df[df['sub_region_1'].isnull()]\n",
    "    #cleaned_data.drop(dropped_columns, axis=1)\n",
    "    clean_all_data.append(cleaned_data)"
   ],
   "metadata": {
    "collapsed": false,
    "pycharm": {
     "name": "#%%\n"
    }
   }
  },
  {
   "cell_type": "code",
   "execution_count": 191,
   "outputs": [],
   "source": [
    "time_edited_data = []\n",
    "for data_frame in clean_all_data:\n",
    "    country_code = data_frame['country_region_code'].iloc[0]\n",
    "    start_date = data_frame['date'].iloc[0]\n",
    "    end_date = data_frame['date'].iloc[-1]\n",
    "    who_data_by_country = who_data.loc[who_data['Country_code'] == country_code]\n",
    "    mask = (who_data_by_country['date'] >= start_date) & (who_data_by_country['date'] <= end_date)\n",
    "    edited_by_date = who_data_by_country.loc[mask]\n",
    "    columns_will_be_added = [pd.Series(edited_by_date[x].to_numpy(), name=x) for x in columns_will_get_from_who_data]\n",
    "    data_frame = pd.concat([data_frame, *columns_will_be_added], axis=1)\n",
    "    time_edited_data.append(data_frame)"
   ],
   "metadata": {
    "collapsed": false,
    "pycharm": {
     "name": "#%%\n"
    }
   }
  },
  {
   "cell_type": "code",
   "execution_count": 192,
   "outputs": [],
   "source": [
    "combined_data = pd.concat(time_edited_data)\n",
    "combined_data.drop(columns=dropped_columns, inplace=True)\n",
    "combined_data.rename(columns=new_column_names, inplace=True)\n",
    "combined_data.to_csv(\"data.csv\")"
   ],
   "metadata": {
    "collapsed": false,
    "pycharm": {
     "name": "#%%\n"
    }
   }
  }
 ],
 "metadata": {
  "kernelspec": {
   "display_name": "Python 3",
   "language": "python",
   "name": "python3"
  },
  "language_info": {
   "codemirror_mode": {
    "name": "ipython",
    "version": 2
   },
   "file_extension": ".py",
   "mimetype": "text/x-python",
   "name": "python",
   "nbconvert_exporter": "python",
   "pygments_lexer": "ipython2",
   "version": "2.7.6"
  }
 },
 "nbformat": 4,
 "nbformat_minor": 0
}