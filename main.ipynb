{
 "cells": [
  {
   "cell_type": "code",
   "execution_count": 1,
   "metadata": {
    "collapsed": true
   },
   "outputs": [],
   "source": [
    "import pandas as pd\n",
    "import os\n",
    "import datetime\n",
    "from lockdown import LockDown"
   ]
  },
  {
   "cell_type": "code",
   "execution_count": 2,
   "outputs": [],
   "source": [
    "all_data = []\n",
    "dtype = {\n",
    "    \"country_region_code\":str,\n",
    "    \"country_region\":str,\n",
    "    \"sub_region_1\":str,\n",
    "    \"sub_region_2\":str,\n",
    "    \"metro_area\":str,\n",
    "    \"iso_3166_2_code\":str,\n",
    "    \"census_fips_code\":str,\n",
    "    \"place_id\":str,\n",
    "    \"date\":object,\n",
    "    \"retail_and_recreation_percent_change_from_baseline\":float,\n",
    "    \"grocery_and_pharmacy_percent_change_from_baseline\":float,\n",
    "    \"parks_percent_change_from_baseline\":float,\n",
    "    \"transit_stations_percent_change_from_baseline\":float,\n",
    "    \"workplaces_percent_change_from_baseline\":float,\n",
    "    \"residential_percent_change_from_baseline\":float\n",
    "}\n",
    "deleted_countries = [\n",
    "    \"LT\",#Letonya\n",
    "    \"LU\",#Lüksemburg\n",
    "    \"MT\",#Malta\n",
    "    \"SI\",#Slovenya\n",
    "    \"SE\",#İsveç\n",
    "]\n",
    "\n",
    "dropped_columns = [\n",
    "    'sub_region_1',\n",
    "    'sub_region_2',\n",
    "    'metro_area',\n",
    "    'iso_3166_2_code',\n",
    "    'census_fips_code',\n",
    "    'place_id',\n",
    "]\n",
    "\n",
    "new_column_names = {\n",
    "    'retail_and_recreation_percent_change_from_baseline': 'retail_and_recreation',\n",
    "    'grocery_and_pharmacy_percent_change_from_baseline': 'grocery_and_pharmacy',\n",
    "    'parks_percent_change_from_baseline': 'parks',\n",
    "    'transit_stations_percent_change_from_baseline': 'transit_stations',\n",
    "    'workplaces_percent_change_from_baseline': 'workplaces',\n",
    "    'residential_percent_change_from_baseline': 'residential',\n",
    "}\n",
    "\n",
    "retail_and_recreation_factor = -0.25\n",
    "grocery_and_pharmacy_factor = -0.05\n",
    "parks_factor = -0.1\n",
    "transit_stations_factor = -0.1\n",
    "workplaces_factor = -0.2\n",
    "residential_factor = 0.3\n",
    "\n",
    "lockdowns_data = [\n",
    "    ['AT', '16.03.2020', '13.04.2020'],\n",
    "    ['AT', '03.11.2020', '30.11.2020'],\n",
    "    ['AT', '26.12.2020', '07.02.2021'],\n",
    "    ['AT', '22.11.2021', '12.12.2021'],\n",
    "    ['BE', '18.03.2020', '04.05.2020'],\n",
    "    ['BE', '02.11.2020', '14.12.2020'],\n",
    "    ['BE', '27.03.2021', '26.04.2021'],\n",
    "    ['BG', '13.03.2020', '15.06.2020'],\n",
    "    ['BG', '28.11.2020', '31.01.2021'],\n",
    "    ['BG', '22.03.2021', '31.03.2021'],\n",
    "    ['HR', '18.03.2020', '11.05.2020'],\n",
    "    ['HR', '22.12.2020', '29.12.2020'],\n",
    "    ['CZ', '16.03.2020', '12.04.2020'],\n",
    "    ['CZ', '22.10.2020', '28.03.2021'],\n",
    "    ['DK', '12.03.2020', '13.04.2020'],\n",
    "    ['DK', '25.12.2020', '01.03.2021'],\n",
    "    ['FR', '17.03.2020', '11.05.2020'],\n",
    "    ['FR', '30.10.2020', '15.12.2020'],\n",
    "    ['FR', '04.04.2021', '03.05.2021'],\n",
    "    ['FI', '16.03.2020', '13.05.2020'],\n",
    "    ['FI', '08.03.2021', '28.03.2021'],\n",
    "    ['EE', '11.03.2021', '11.04.2021'],\n",
    "    ['DE', '16.03.2020', '30.05.2020'],\n",
    "    ['DE', '02.11.2020', '01.03.2021'],\n",
    "    ['GR', '23.03.2020', '04.05.2020'],\n",
    "    ['GR', '07.11.2020', '22.03.2021'],\n",
    "    ['HU', '28.03.2020', '10.04.2020'],\n",
    "    ['IE', '12.03.2020', '18.05.2020'],\n",
    "    ['IE', '21.10.2020', '01.12.2020'],\n",
    "    ['IE', '24.12.2020', '12.04.2021'],\n",
    "    ['IT', '09.03.2020', '12.04.2021'],\n",
    "    ['IT', '24.12.2020', '06.01.2021'],\n",
    "    ['IT', '15.03.2021', '30.04.2021'],\n",
    "    ['LT', '16.03.2020', '18.06.2020'],\n",
    "    ['LT', '07.11.2020', '01.07.2021'],\n",
    "    ['NL', '15.03.2020', '06.04.2020'],\n",
    "    ['NL', '15.12.2020', '05.06.2021'],\n",
    "    ['NL', '13.11.2021', '12.12.2021'],\n",
    "    ['PL', '13.03.2020', '11.04.2020'],\n",
    "    ['PL', '28.12.2020', '17.01.2021'],\n",
    "    ['PL', '20.03.2021', '25.04.2021'],\n",
    "    ['PT', '19.03.2020', '02.04.2020'],\n",
    "    ['PT', '15.01.2021', '15.03.2021'],\n",
    "    ['RO', '25.03.2020', '12.05.2020'],\n",
    "    ['SI', '25.11.2021', '09.12.2021'],\n",
    "    ['ES', '14.03.2020', '09.05.2020'],\n",
    "]\n",
    "\n",
    "columns_will_get_from_who_data = ['New_cases', 'New_deaths']\n",
    "\n",
    "files = os.listdir(\"assets\")\n",
    "countries = [x for x in files if x[5:7] not in deleted_countries]  # deleted unnecessary countries\n",
    "\n",
    "def sort_func(string):\n",
    "    return string[5:7] + string[:5]\n",
    "\n",
    "countries = sorted(countries, key=sort_func)\n",
    "\n",
    "who_data = pd.read_csv(\"WHO-COVID-19-global-data.csv\")\n",
    "who_data['date'] = pd.to_datetime(who_data['Date_reported'])"
   ],
   "metadata": {
    "collapsed": false,
    "pycharm": {
     "name": "#%%\n"
    }
   }
  },
  {
   "cell_type": "code",
   "execution_count": 3,
   "outputs": [],
   "source": [
    "for csv_file in countries:\n",
    "    file_name = csv_file.split(\".\")[0]\n",
    "    data_frame = pd.read_csv(\n",
    "        \"assets/{filename}\".format(filename=csv_file),\n",
    "        dtype=dtype\n",
    "    )\n",
    "    all_data.append(data_frame)"
   ],
   "metadata": {
    "collapsed": false,
    "pycharm": {
     "name": "#%%\n"
    }
   }
  },
  {
   "cell_type": "code",
   "execution_count": 4,
   "outputs": [],
   "source": [
    "summed_datas = []\n",
    "for x1, x2 in zip(all_data[::2], all_data[1::2]):\n",
    "    summed_data = pd.concat([x1, x2])\n",
    "    summed_datas.append(summed_data)"
   ],
   "metadata": {
    "collapsed": false,
    "pycharm": {
     "name": "#%%\n"
    }
   }
  },
  {
   "cell_type": "code",
   "execution_count": 5,
   "outputs": [],
   "source": [
    "clean_all_data = []\n",
    "for df in summed_datas:\n",
    "    cleaned_data = df[df['sub_region_1'].isnull()]\n",
    "    clean_all_data.append(cleaned_data)"
   ],
   "metadata": {
    "collapsed": false,
    "pycharm": {
     "name": "#%%\n"
    }
   }
  },
  {
   "cell_type": "code",
   "execution_count": 6,
   "outputs": [],
   "source": [
    "summed_data_frame = pd.concat(clean_all_data, ignore_index=True)\n",
    "summed_data_frame['date'] = pd.to_datetime(summed_data_frame['date'])\n",
    "summed_data_frame.drop(columns=dropped_columns, inplace=True)\n",
    "summed_data_frame.rename(columns=new_column_names, inplace=True)\n",
    "\n",
    "lockdowns = [ LockDown(x, y, z) for x,y,z in lockdowns_data]\n",
    "for x in lockdowns:\n",
    "    x.set_data(summed_data_frame, who_data, columns_will_get_from_who_data)"
   ],
   "metadata": {
    "collapsed": false,
    "pycharm": {
     "name": "#%%\n"
    }
   }
  },
  {
   "cell_type": "code",
   "execution_count": 7,
   "outputs": [],
   "source": [
    "summed_data_frame.to_csv(\"data.csv\")"
   ],
   "metadata": {
    "collapsed": false,
    "pycharm": {
     "name": "#%%\n"
    }
   }
  },
  {
   "cell_type": "code",
   "execution_count": 8,
   "outputs": [],
   "source": [
    "max_retail_and_recreation = summed_data_frame['retail_and_recreation'].max()\n",
    "max_grocery_and_pharmacy = summed_data_frame['grocery_and_pharmacy'].max()\n",
    "max_parks = summed_data_frame['parks'].max()\n",
    "max_transit_stations = summed_data_frame['transit_stations'].max()\n",
    "max_workplaces = summed_data_frame['workplaces'].max()\n",
    "max_residential = summed_data_frame['residential'].max()"
   ],
   "metadata": {
    "collapsed": false,
    "pycharm": {
     "name": "#%%\n"
    }
   }
  },
  {
   "cell_type": "code",
   "execution_count": 9,
   "outputs": [],
   "source": [
    "min_retail_and_recreation = summed_data_frame['retail_and_recreation'].min()\n",
    "min_grocery_and_pharmacy = summed_data_frame['grocery_and_pharmacy'].min()\n",
    "min_parks = summed_data_frame['parks'].min()\n",
    "min_transit_stations = summed_data_frame['transit_stations'].min()\n",
    "min_workplaces = summed_data_frame['workplaces'].min()\n",
    "min_residential = summed_data_frame['residential'].min()"
   ],
   "metadata": {
    "collapsed": false,
    "pycharm": {
     "name": "#%%\n"
    }
   }
  },
  {
   "cell_type": "code",
   "execution_count": 10,
   "outputs": [],
   "source": [
    "for lockdown in lockdowns:\n",
    "    avg_values = lockdown.get_avg_values()\n",
    "    success_percent_retail_and_recreation = (max_retail_and_recreation - avg_values['retail_and_recreation']) / (max_retail_and_recreation - min_retail_and_recreation)\n",
    "    success_percent_grocery_and_pharmacy = (max_grocery_and_pharmacy - avg_values['grocery_and_pharmacy']) / (max_grocery_and_pharmacy - min_grocery_and_pharmacy)\n",
    "    success_percent_parks = (max_parks - avg_values['parks']) / (max_parks - min_parks)\n",
    "    success_percent_transit_stations = (max_transit_stations - avg_values['transit_stations']) / (max_transit_stations - min_transit_stations)\n",
    "    success_percent_workplaces = (max_workplaces - avg_values['workplaces']) / (max_workplaces - min_workplaces)\n",
    "    success_percent_residential = (avg_values['residential'] - min_residential) / (max_residential - min_residential)\n",
    "    success_point_for_lockdown = 0\n",
    "    success_point_for_lockdown += success_percent_retail_and_recreation * retail_and_recreation_factor\n",
    "    success_point_for_lockdown += success_percent_grocery_and_pharmacy * grocery_and_pharmacy_factor\n",
    "    success_point_for_lockdown += success_percent_parks * parks_factor\n",
    "    success_point_for_lockdown += success_percent_transit_stations * transit_stations_factor\n",
    "    success_point_for_lockdown += success_percent_workplaces * workplaces_factor\n",
    "    success_point_for_lockdown += success_percent_residential * retail_and_recreation_factor\n",
    "    lockdown.set_lockdown_success_point(success_point_for_lockdown)\n",
    "\n",
    "    avg_new_cases_before_lockdown = lockdown.get_before_lockdown_average_case_count_by_week(who_data, 2)\n",
    "    avg_new_cases_after_lockdown = lockdown.get_after_lockdown_average_case_count_by_week(who_data, 1)\n",
    "    change_on_percent = (avg_new_cases_after_lockdown - avg_new_cases_before_lockdown) / avg_new_cases_after_lockdown"
   ],
   "metadata": {
    "collapsed": false,
    "pycharm": {
     "name": "#%%\n"
    }
   }
  },
  {
   "cell_type": "code",
   "execution_count": 10,
   "outputs": [],
   "source": [],
   "metadata": {
    "collapsed": false,
    "pycharm": {
     "name": "#%%\n"
    }
   }
  }
 ],
 "metadata": {
  "kernelspec": {
   "display_name": "Python 3",
   "language": "python",
   "name": "python3"
  },
  "language_info": {
   "codemirror_mode": {
    "name": "ipython",
    "version": 2
   },
   "file_extension": ".py",
   "mimetype": "text/x-python",
   "name": "python",
   "nbconvert_exporter": "python",
   "pygments_lexer": "ipython2",
   "version": "2.7.6"
  }
 },
 "nbformat": 4,
 "nbformat_minor": 0
}